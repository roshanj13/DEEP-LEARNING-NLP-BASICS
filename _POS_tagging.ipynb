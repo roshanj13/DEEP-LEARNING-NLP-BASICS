{
 "cells": [
  {
   "cell_type": "markdown",
   "metadata": {},
   "source": [
    "# POS tagging using modified Viterbi\n",
    "\n",
    "## Objectives of the analysis - \n",
    "\n",
    "    - Write the vanilla Viterbi algorithm for assigning POS tags (i.e. without dealing with unknown words) \n",
    "\n",
    "    - Solve the problem of unknown words using at least two techniques. \n",
    "\n",
    "    - Compare the tagging accuracy after making these modifications with the vanilla Viterbi algorithm.\n",
    "    \n",
    "    - List down at least three cases from the sample test file (i.e. unknown word-tag pairs) which were \n",
    "    incorrectly tagged by the original Viterbi POS tagger and got corrected after your modifications.\n"
   ]
  },
  {
   "cell_type": "code",
   "execution_count": 1,
   "metadata": {},
   "outputs": [],
   "source": [
    "#Importing libraries\n",
    "\n",
    "import nltk, re\n",
    "import numpy as np\n",
    "import pandas as pd\n",
    "import requests\n",
    "import matplotlib.pyplot as plt\n",
    "import seaborn as sns\n",
    "import random\n",
    "from sklearn.model_selection import train_test_split\n",
    "from nltk.tokenize import word_tokenize"
   ]
  },
  {
   "cell_type": "markdown",
   "metadata": {},
   "source": [
    "## Data Preparation"
   ]
  },
  {
   "cell_type": "code",
   "execution_count": 2,
   "metadata": {},
   "outputs": [
    {
     "data": {
      "text/plain": [
       "[[('Pierre', 'NOUN'),\n",
       "  ('Vinken', 'NOUN'),\n",
       "  (',', '.'),\n",
       "  ('61', 'NUM'),\n",
       "  ('years', 'NOUN'),\n",
       "  ('old', 'ADJ'),\n",
       "  (',', '.'),\n",
       "  ('will', 'VERB'),\n",
       "  ('join', 'VERB'),\n",
       "  ('the', 'DET'),\n",
       "  ('board', 'NOUN'),\n",
       "  ('as', 'ADP'),\n",
       "  ('a', 'DET'),\n",
       "  ('nonexecutive', 'ADJ'),\n",
       "  ('director', 'NOUN'),\n",
       "  ('Nov.', 'NOUN'),\n",
       "  ('29', 'NUM'),\n",
       "  ('.', '.')],\n",
       " [('Mr.', 'NOUN'),\n",
       "  ('Vinken', 'NOUN'),\n",
       "  ('is', 'VERB'),\n",
       "  ('chairman', 'NOUN'),\n",
       "  ('of', 'ADP'),\n",
       "  ('Elsevier', 'NOUN'),\n",
       "  ('N.V.', 'NOUN'),\n",
       "  (',', '.'),\n",
       "  ('the', 'DET'),\n",
       "  ('Dutch', 'NOUN'),\n",
       "  ('publishing', 'VERB'),\n",
       "  ('group', 'NOUN'),\n",
       "  ('.', '.')]]"
      ]
     },
     "execution_count": 2,
     "metadata": {},
     "output_type": "execute_result"
    }
   ],
   "source": [
    "# reading the Treebank tagged sentences\n",
    "nltk_data = list(nltk.corpus.treebank.tagged_sents(tagset='universal'))\n",
    "nltk_data[:2]"
   ]
  },
  {
   "cell_type": "code",
   "execution_count": 3,
   "metadata": {},
   "outputs": [
    {
     "name": "stdout",
     "output_type": "stream",
     "text": [
      "Training Set Length - 3718\n",
      "Training Set Length - 196\n",
      "------------------------------------------------------------------------------------------------------------------------\n",
      "Training Data Glimpse -\n",
      "\n",
      "[[('But', 'CONJ'), ('we', 'PRON'), ('are', 'VERB'), ('not', 'ADV'), ('going', 'VERB'), ('back', 'ADV'), ('to', 'PRT'), ('1970', 'NUM'), ('.', '.'), (\"''\", '.')], [('Guerrilla', 'NOUN'), ('leaders', 'NOUN'), ('said', 'VERB'), ('0', 'X'), ('Pretoria', 'NOUN'), ('was', 'VERB'), ('attempting', 'VERB'), ('*-1', 'X'), ('to', 'PRT'), ('sabotage', 'VERB'), ('next', 'ADJ'), ('week', 'NOUN'), (\"'s\", 'PRT'), ('elections', 'NOUN'), ('in', 'ADP'), ('Namibia', 'NOUN'), ('.', '.')], [('They', 'PRON'), ('take', 'VERB'), ('place', 'NOUN'), ('in', 'ADP'), ('government', 'NOUN'), ('programs', 'NOUN'), ('that', 'DET'), ('*T*-1', 'X'), ('seem', 'VERB'), ('tailor-made', 'ADJ'), ('for', 'ADP'), ('corruption', 'NOUN'), ('.', '.')], [('A', 'DET'), ('full', 'ADJ'), (',', '.'), ('four-color', 'ADJ'), ('page', 'NOUN'), ('in', 'ADP'), ('Newsweek', 'NOUN'), ('will', 'VERB'), ('cost', 'VERB'), ('$', '.'), ('100,980', 'NUM'), ('*U*', 'X'), ('.', '.')], [('Peter', 'NOUN'), ('Marcus', 'NOUN'), (',', '.'), ('an', 'DET'), ('analyst', 'NOUN'), ('with', 'ADP'), ('PaineWebber', 'NOUN'), ('Inc.', 'NOUN'), (',', '.'), ('said', 'VERB'), ('that', 'ADP'), ('a', 'DET'), ('downturn', 'NOUN'), ('in', 'ADP'), ('the', 'DET'), ('appliance', 'NOUN'), ('industry', 'NOUN'), (',', '.'), ('coupled', 'VERB'), ('*', 'X'), ('with', 'ADP'), ('sluggish', 'ADJ'), ('automotive', 'ADJ'), ('sales', 'NOUN'), (',', '.'), ('hurt', 'VERB'), ('USX', 'NOUN'), ('results', 'NOUN'), ('.', '.')], [('Also', 'ADV'), (',', '.'), ('more', 'ADJ'), ('people', 'NOUN'), ('said', 'VERB'), ('0', 'X'), ('conditions', 'NOUN'), ('will', 'VERB'), ('worsen', 'VERB'), ('in', 'ADP'), ('the', 'DET'), ('period', 'NOUN'), ('.', '.')], [('Wellcome', 'NOUN'), ('gained', 'VERB'), ('18', 'NUM'), ('to', 'PRT'), ('666', 'NUM'), ('on', 'ADP'), ('a', 'DET'), ('modest', 'ADJ'), ('1.1', 'NUM'), ('million', 'NUM'), ('shares', 'NOUN'), ('.', '.')], [('The', 'DET'), ('school-board', 'NOUN'), ('hearing', 'NOUN'), ('at', 'ADP'), ('which', 'DET'), ('she', 'PRON'), ('was', 'VERB'), ('dismissed', 'VERB'), ('*-2', 'X'), ('*T*-1', 'X'), ('was', 'VERB'), ('crowded', 'VERB'), ('*-4', 'X'), ('with', 'ADP'), ('students', 'NOUN'), (',', '.'), ('teachers', 'NOUN'), ('and', 'CONJ'), ('parents', 'NOUN'), ('who', 'PRON'), ('*T*-98', 'X'), ('came', 'VERB'), ('*-3', 'X'), ('to', 'PRT'), ('testify', 'VERB'), ('on', 'ADP'), ('her', 'PRON'), ('behalf', 'NOUN'), ('.', '.')], [('RMS', 'NOUN'), ('International', 'NOUN'), ('Inc.', 'NOUN'), (',', '.'), ('Hasbrouk', 'NOUN'), ('Heights', 'NOUN'), (',', '.'), ('N.J.', 'NOUN'), (',', '.'), ('*-1', 'X'), ('facing', 'VERB'), ('a', 'DET'), ('cash-flow', 'ADJ'), ('squeeze', 'NOUN'), (',', '.'), ('said', 'VERB'), ('0', 'X'), ('it', 'PRON'), ('is', 'VERB'), ('seeking', 'VERB'), ('other', 'ADJ'), ('financing', 'VERB'), ('sources', 'NOUN'), ('and', 'CONJ'), ('waivers', 'NOUN'), ('from', 'ADP'), ('debenture', 'NOUN'), ('holders', 'NOUN'), ('.', '.')], [('The', 'DET'), ('32', 'NUM'), ('%', 'NOUN'), ('state-owned', 'ADJ'), ('DSM', 'NOUN'), ('had', 'VERB'), ('eight', 'NUM'), ('million', 'NUM'), ('guilders', 'NOUN'), ('of', 'ADP'), ('extraordinary', 'ADJ'), ('charges', 'NOUN'), ('in', 'ADP'), ('the', 'DET'), ('latest', 'ADJ'), ('quarter', 'NOUN'), (',', '.'), ('mainly', 'ADV'), ('*', 'X'), ('to', 'PRT'), ('reflect', 'VERB'), ('one-time', 'ADJ'), ('losses', 'NOUN'), ('in', 'ADP'), ('connection', 'NOUN'), ('with', 'ADP'), ('the', 'DET'), ('disposal', 'NOUN'), ('of', 'ADP'), ('some', 'DET'), ('operations', 'NOUN'), ('.', '.')]]\n"
     ]
    }
   ],
   "source": [
    "# Splitting into train and test\n",
    "random.seed(1234)\n",
    "train_set, test_set = train_test_split(nltk_data, test_size=0.05)\n",
    "\n",
    "print(\"Training Set Length -\", len(train_set))\n",
    "print(\"Training Set Length -\", len(test_set))\n",
    "print(\"-\" * 120)\n",
    "print(\"Training Data Glimpse -\\n\")\n",
    "print(train_set[:10])"
   ]
  },
  {
   "cell_type": "code",
   "execution_count": 4,
   "metadata": {},
   "outputs": [
    {
     "data": {
      "text/plain": [
       "95654"
      ]
     },
     "execution_count": 4,
     "metadata": {},
     "output_type": "execute_result"
    }
   ],
   "source": [
    "# Getting list of tagged words\n",
    "\n",
    "train_tagged_words = [tup for sent in train_set for tup in sent]\n",
    "len(train_tagged_words)"
   ]
  },
  {
   "cell_type": "code",
   "execution_count": 5,
   "metadata": {},
   "outputs": [
    {
     "data": {
      "text/plain": [
       "[('But', 'CONJ'),\n",
       " ('we', 'PRON'),\n",
       " ('are', 'VERB'),\n",
       " ('not', 'ADV'),\n",
       " ('going', 'VERB'),\n",
       " ('back', 'ADV'),\n",
       " ('to', 'PRT'),\n",
       " ('1970', 'NUM'),\n",
       " ('.', '.'),\n",
       " (\"''\", '.')]"
      ]
     },
     "execution_count": 5,
     "metadata": {},
     "output_type": "execute_result"
    }
   ],
   "source": [
    "# Let's have a look at the tagged words in the training set\n",
    "\n",
    "train_tagged_words[:10]"
   ]
  },
  {
   "cell_type": "code",
   "execution_count": 6,
   "metadata": {},
   "outputs": [
    {
     "data": {
      "text/plain": [
       "['But', 'we', 'are', 'not', 'going', 'back', 'to', '1970', '.', \"''\"]"
      ]
     },
     "execution_count": 6,
     "metadata": {},
     "output_type": "execute_result"
    }
   ],
   "source": [
    "# tokens in the train set - train_tagged_words\n",
    "\n",
    "train_data_tokens = [pair[0] for pair in train_tagged_words]\n",
    "train_data_tokens[:10]"
   ]
  },
  {
   "cell_type": "code",
   "execution_count": 7,
   "metadata": {},
   "outputs": [
    {
     "data": {
      "text/plain": [
       "['CONJ', 'PRON', 'VERB', 'ADV', 'VERB', 'ADV', 'PRT', 'NUM', '.', '.']"
      ]
     },
     "execution_count": 7,
     "metadata": {},
     "output_type": "execute_result"
    }
   ],
   "source": [
    "# POS tags for the tokens in the train set -\n",
    "\n",
    "train_data_pos_tags = [pair[1] for pair in train_tagged_words]\n",
    "train_data_pos_tags[:10]"
   ]
  },
  {
   "cell_type": "code",
   "execution_count": 8,
   "metadata": {},
   "outputs": [],
   "source": [
    "# building the train vocabulary to a set\n",
    "\n",
    "training_vocabulary_set = set(train_data_tokens)"
   ]
  },
  {
   "cell_type": "code",
   "execution_count": 9,
   "metadata": {},
   "outputs": [],
   "source": [
    "# building the POS tags to a set\n",
    "\n",
    "training_pos_tag_set = set(train_data_pos_tags)"
   ]
  },
  {
   "cell_type": "code",
   "execution_count": 10,
   "metadata": {},
   "outputs": [
    {
     "name": "stdout",
     "output_type": "stream",
     "text": [
      "Length : \n",
      "Vocabulary: 12043 \n",
      "Tags: 12\n",
      "\n",
      "Available Tags :\n",
      "\n",
      "{'ADP', 'PRT', 'NOUN', 'PRON', 'VERB', 'ADV', 'X', 'ADJ', '.', 'NUM', 'CONJ', 'DET'}\n"
     ]
    }
   ],
   "source": [
    "print(\"Length : \\nVocabulary: {} \\nTags: {}\".format(len(training_vocabulary_set), len(training_pos_tag_set)))\n",
    "print(\"\\nAvailable Tags :\\n\")\n",
    "print(training_pos_tag_set)"
   ]
  },
  {
   "cell_type": "markdown",
   "metadata": {},
   "source": [
    "### Emission and Transition Probabilities"
   ]
  },
  {
   "cell_type": "code",
   "execution_count": 11,
   "metadata": {},
   "outputs": [],
   "source": [
    "# computing P(w/t) and storing in [Tags x Vocabulary] matrix. This is a matrix with dimension\n",
    "# of len(training_pos_tag_set) X en(training_vocabulary_set)\n",
    "\n",
    "len_pos_tags = len(training_pos_tag_set)\n",
    "len_vocab = len(training_vocabulary_set)\n",
    "\n",
    "word_given_tag = np.zeros((len_pos_tags, len_vocab))"
   ]
  },
  {
   "cell_type": "code",
   "execution_count": 12,
   "metadata": {},
   "outputs": [],
   "source": [
    "# compute word given tag: Emission Probability\n",
    "\n",
    "def word_given_tag(word, tag, train_bag = train_tagged_words):\n",
    "    tag_list = [pair for pair in train_bag if pair[1]==tag]\n",
    "    count_tag = len(tag_list)\n",
    "    w_given_tag_list = [pair[0] for pair in tag_list if pair[0]==word]\n",
    "    count_w_given_tag = len(w_given_tag_list)\n",
    "    \n",
    "    return (count_w_given_tag, count_tag)"
   ]
  },
  {
   "cell_type": "code",
   "execution_count": 13,
   "metadata": {},
   "outputs": [],
   "source": [
    "# compute tag given tag: tag2(t2) given tag1 (t1), i.e. Transition Probability\n",
    "\n",
    "def t2_given_t1(t2, t1, train_bag = train_tagged_words):\n",
    "    tags = [pair[1] for pair in train_bag]\n",
    "    count_t1 = len([t for t in tags if t==t1])\n",
    "    count_t2_t1 = 0\n",
    "    for index in range(len(tags)-1):\n",
    "        if tags[index]==t1 and tags[index+1] == t2:\n",
    "            count_t2_t1 += 1\n",
    "    return (count_t2_t1, count_t1)"
   ]
  },
  {
   "cell_type": "code",
   "execution_count": 14,
   "metadata": {},
   "outputs": [
    {
     "data": {
      "text/plain": [
       "array([[1.68497395e-02, 1.27972697e-03, 3.23344350e-01, 6.89986125e-02,\n",
       "        7.99829327e-03, 1.33304894e-02, 3.50858495e-02, 1.06217340e-01,\n",
       "        3.95648926e-02, 6.18534721e-02, 8.53151316e-04, 3.24624091e-01],\n",
       "       [2.09355578e-02, 1.96270854e-03, 2.45011449e-01, 1.83186121e-02,\n",
       "        4.01701003e-01, 9.81354248e-03, 1.37389600e-02, 8.57049376e-02,\n",
       "        4.21982333e-02, 5.59371933e-02, 2.28982652e-03, 1.02387965e-01],\n",
       "       [1.76860347e-01, 4.37964164e-02, 2.64562398e-01, 4.98762215e-03,\n",
       "        1.46898210e-01, 1.70016009e-02, 2.90883929e-02, 1.21960100e-02,\n",
       "        2.39769921e-01, 9.10149980e-03, 4.24129888e-02, 1.33245960e-02],\n",
       "       [2.07612459e-02, 1.30718956e-02, 2.09919259e-01, 7.68935028e-03,\n",
       "        4.84044611e-01, 3.34486738e-02, 9.41945389e-02, 7.49711618e-02,\n",
       "        3.99846211e-02, 6.92041544e-03, 5.38254529e-03, 9.61168762e-03],\n",
       "       [9.14454311e-02, 3.16721015e-02, 1.09687939e-01, 3.57087404e-02,\n",
       "        1.68529734e-01, 8.23629871e-02, 2.17978582e-01, 6.52848929e-02,\n",
       "        3.57087404e-02, 2.18910109e-02, 5.35631133e-03, 1.34373546e-01],\n",
       "       [1.16086237e-01, 1.35986730e-02, 3.21724713e-02, 1.59203988e-02,\n",
       "        3.46268654e-01, 8.09286907e-02, 2.35489216e-02, 1.30348265e-01,\n",
       "        1.34328365e-01, 3.05140968e-02, 6.63349917e-03, 6.96517378e-02],\n",
       "       [1.45448759e-01, 1.84914067e-01, 6.17441125e-02, 5.50604723e-02,\n",
       "        2.05601528e-01, 2.59388927e-02, 7.41565898e-02, 1.67091023e-02,\n",
       "        1.63749203e-01, 2.86441762e-03, 1.08211329e-02, 5.29917255e-02],\n",
       "       [7.73145109e-02, 1.08338809e-02, 6.99441910e-01, 6.56598830e-04,\n",
       "        1.21470783e-02, 4.43204213e-03, 2.11753119e-02, 6.59881830e-02,\n",
       "        6.54957294e-02, 2.06828620e-02, 1.69074200e-02, 4.92449105e-03],\n",
       "       [9.21845511e-02, 2.06853123e-03, 2.22052336e-01, 6.52037039e-02,\n",
       "        8.92166570e-02, 5.22528999e-02, 2.73405891e-02, 4.51479442e-02,\n",
       "        9.38933343e-02, 7.98632950e-02, 5.71993887e-02, 1.73486829e-01],\n",
       "       [3.52834724e-02, 2.74427012e-02, 3.54945719e-01, 1.50784082e-03,\n",
       "        1.71893854e-02, 2.41254526e-03, 2.10796133e-01, 3.28709297e-02,\n",
       "        1.13088056e-01, 1.87273830e-01, 1.41737033e-02, 3.01568164e-03],\n",
       "       [5.22631817e-02, 4.19971999e-03, 3.53243113e-01, 5.78628108e-02,\n",
       "        1.54456362e-01, 5.41297235e-02, 8.86607543e-03, 1.18058793e-01,\n",
       "        3.26644890e-02, 4.15305644e-02, 4.66635567e-04, 1.22258514e-01],\n",
       "       [9.15662665e-03, 2.40963855e-04, 6.39999986e-01, 3.49397585e-03,\n",
       "        3.90361436e-02, 1.27710840e-02, 4.49397601e-02, 2.04698801e-01,\n",
       "        1.77108441e-02, 2.18072291e-02, 4.81927709e-04, 5.66265080e-03]],\n",
       "      dtype=float32)"
      ]
     },
     "execution_count": 14,
     "metadata": {},
     "output_type": "execute_result"
    }
   ],
   "source": [
    "# creating t x t transition matrix of tags\n",
    "# each column is t2, each row is t1\n",
    "# thus M(i, j) represents P(tj given ti)\n",
    "\n",
    "tags_matrix = np.zeros((len_pos_tags, len_pos_tags), dtype='float32')\n",
    "for i, t1 in enumerate(list(training_pos_tag_set)):\n",
    "    for j, t2 in enumerate(list(training_pos_tag_set)): \n",
    "        tags_matrix[i, j] = t2_given_t1(t2, t1)[0]/t2_given_t1(t2, t1)[1]\n",
    "\n",
    "# Let's have a glimpse into the transition matrix\n",
    "tags_matrix"
   ]
  },
  {
   "cell_type": "code",
   "execution_count": 15,
   "metadata": {},
   "outputs": [
    {
     "data": {
      "text/html": [
       "<div>\n",
       "<style scoped>\n",
       "    .dataframe tbody tr th:only-of-type {\n",
       "        vertical-align: middle;\n",
       "    }\n",
       "\n",
       "    .dataframe tbody tr th {\n",
       "        vertical-align: top;\n",
       "    }\n",
       "\n",
       "    .dataframe thead th {\n",
       "        text-align: right;\n",
       "    }\n",
       "</style>\n",
       "<table border=\"1\" class=\"dataframe\">\n",
       "  <thead>\n",
       "    <tr style=\"text-align: right;\">\n",
       "      <th></th>\n",
       "      <th>ADP</th>\n",
       "      <th>PRT</th>\n",
       "      <th>NOUN</th>\n",
       "      <th>PRON</th>\n",
       "      <th>VERB</th>\n",
       "      <th>ADV</th>\n",
       "      <th>X</th>\n",
       "      <th>ADJ</th>\n",
       "      <th>.</th>\n",
       "      <th>NUM</th>\n",
       "      <th>CONJ</th>\n",
       "      <th>DET</th>\n",
       "    </tr>\n",
       "  </thead>\n",
       "  <tbody>\n",
       "    <tr>\n",
       "      <th>ADP</th>\n",
       "      <td>0.016850</td>\n",
       "      <td>0.001280</td>\n",
       "      <td>0.323344</td>\n",
       "      <td>0.068999</td>\n",
       "      <td>0.007998</td>\n",
       "      <td>0.013330</td>\n",
       "      <td>0.035086</td>\n",
       "      <td>0.106217</td>\n",
       "      <td>0.039565</td>\n",
       "      <td>0.061853</td>\n",
       "      <td>0.000853</td>\n",
       "      <td>0.324624</td>\n",
       "    </tr>\n",
       "    <tr>\n",
       "      <th>PRT</th>\n",
       "      <td>0.020936</td>\n",
       "      <td>0.001963</td>\n",
       "      <td>0.245011</td>\n",
       "      <td>0.018319</td>\n",
       "      <td>0.401701</td>\n",
       "      <td>0.009814</td>\n",
       "      <td>0.013739</td>\n",
       "      <td>0.085705</td>\n",
       "      <td>0.042198</td>\n",
       "      <td>0.055937</td>\n",
       "      <td>0.002290</td>\n",
       "      <td>0.102388</td>\n",
       "    </tr>\n",
       "    <tr>\n",
       "      <th>NOUN</th>\n",
       "      <td>0.176860</td>\n",
       "      <td>0.043796</td>\n",
       "      <td>0.264562</td>\n",
       "      <td>0.004988</td>\n",
       "      <td>0.146898</td>\n",
       "      <td>0.017002</td>\n",
       "      <td>0.029088</td>\n",
       "      <td>0.012196</td>\n",
       "      <td>0.239770</td>\n",
       "      <td>0.009101</td>\n",
       "      <td>0.042413</td>\n",
       "      <td>0.013325</td>\n",
       "    </tr>\n",
       "    <tr>\n",
       "      <th>PRON</th>\n",
       "      <td>0.020761</td>\n",
       "      <td>0.013072</td>\n",
       "      <td>0.209919</td>\n",
       "      <td>0.007689</td>\n",
       "      <td>0.484045</td>\n",
       "      <td>0.033449</td>\n",
       "      <td>0.094195</td>\n",
       "      <td>0.074971</td>\n",
       "      <td>0.039985</td>\n",
       "      <td>0.006920</td>\n",
       "      <td>0.005383</td>\n",
       "      <td>0.009612</td>\n",
       "    </tr>\n",
       "    <tr>\n",
       "      <th>VERB</th>\n",
       "      <td>0.091445</td>\n",
       "      <td>0.031672</td>\n",
       "      <td>0.109688</td>\n",
       "      <td>0.035709</td>\n",
       "      <td>0.168530</td>\n",
       "      <td>0.082363</td>\n",
       "      <td>0.217979</td>\n",
       "      <td>0.065285</td>\n",
       "      <td>0.035709</td>\n",
       "      <td>0.021891</td>\n",
       "      <td>0.005356</td>\n",
       "      <td>0.134374</td>\n",
       "    </tr>\n",
       "    <tr>\n",
       "      <th>ADV</th>\n",
       "      <td>0.116086</td>\n",
       "      <td>0.013599</td>\n",
       "      <td>0.032172</td>\n",
       "      <td>0.015920</td>\n",
       "      <td>0.346269</td>\n",
       "      <td>0.080929</td>\n",
       "      <td>0.023549</td>\n",
       "      <td>0.130348</td>\n",
       "      <td>0.134328</td>\n",
       "      <td>0.030514</td>\n",
       "      <td>0.006633</td>\n",
       "      <td>0.069652</td>\n",
       "    </tr>\n",
       "    <tr>\n",
       "      <th>X</th>\n",
       "      <td>0.145449</td>\n",
       "      <td>0.184914</td>\n",
       "      <td>0.061744</td>\n",
       "      <td>0.055060</td>\n",
       "      <td>0.205602</td>\n",
       "      <td>0.025939</td>\n",
       "      <td>0.074157</td>\n",
       "      <td>0.016709</td>\n",
       "      <td>0.163749</td>\n",
       "      <td>0.002864</td>\n",
       "      <td>0.010821</td>\n",
       "      <td>0.052992</td>\n",
       "    </tr>\n",
       "    <tr>\n",
       "      <th>ADJ</th>\n",
       "      <td>0.077315</td>\n",
       "      <td>0.010834</td>\n",
       "      <td>0.699442</td>\n",
       "      <td>0.000657</td>\n",
       "      <td>0.012147</td>\n",
       "      <td>0.004432</td>\n",
       "      <td>0.021175</td>\n",
       "      <td>0.065988</td>\n",
       "      <td>0.065496</td>\n",
       "      <td>0.020683</td>\n",
       "      <td>0.016907</td>\n",
       "      <td>0.004924</td>\n",
       "    </tr>\n",
       "    <tr>\n",
       "      <th>.</th>\n",
       "      <td>0.092185</td>\n",
       "      <td>0.002069</td>\n",
       "      <td>0.222052</td>\n",
       "      <td>0.065204</td>\n",
       "      <td>0.089217</td>\n",
       "      <td>0.052253</td>\n",
       "      <td>0.027341</td>\n",
       "      <td>0.045148</td>\n",
       "      <td>0.093893</td>\n",
       "      <td>0.079863</td>\n",
       "      <td>0.057199</td>\n",
       "      <td>0.173487</td>\n",
       "    </tr>\n",
       "    <tr>\n",
       "      <th>NUM</th>\n",
       "      <td>0.035283</td>\n",
       "      <td>0.027443</td>\n",
       "      <td>0.354946</td>\n",
       "      <td>0.001508</td>\n",
       "      <td>0.017189</td>\n",
       "      <td>0.002413</td>\n",
       "      <td>0.210796</td>\n",
       "      <td>0.032871</td>\n",
       "      <td>0.113088</td>\n",
       "      <td>0.187274</td>\n",
       "      <td>0.014174</td>\n",
       "      <td>0.003016</td>\n",
       "    </tr>\n",
       "    <tr>\n",
       "      <th>CONJ</th>\n",
       "      <td>0.052263</td>\n",
       "      <td>0.004200</td>\n",
       "      <td>0.353243</td>\n",
       "      <td>0.057863</td>\n",
       "      <td>0.154456</td>\n",
       "      <td>0.054130</td>\n",
       "      <td>0.008866</td>\n",
       "      <td>0.118059</td>\n",
       "      <td>0.032664</td>\n",
       "      <td>0.041531</td>\n",
       "      <td>0.000467</td>\n",
       "      <td>0.122259</td>\n",
       "    </tr>\n",
       "    <tr>\n",
       "      <th>DET</th>\n",
       "      <td>0.009157</td>\n",
       "      <td>0.000241</td>\n",
       "      <td>0.640000</td>\n",
       "      <td>0.003494</td>\n",
       "      <td>0.039036</td>\n",
       "      <td>0.012771</td>\n",
       "      <td>0.044940</td>\n",
       "      <td>0.204699</td>\n",
       "      <td>0.017711</td>\n",
       "      <td>0.021807</td>\n",
       "      <td>0.000482</td>\n",
       "      <td>0.005663</td>\n",
       "    </tr>\n",
       "  </tbody>\n",
       "</table>\n",
       "</div>"
      ],
      "text/plain": [
       "           ADP       PRT      NOUN      PRON      VERB       ADV         X   \n",
       "ADP   0.016850  0.001280  0.323344  0.068999  0.007998  0.013330  0.035086  \\\n",
       "PRT   0.020936  0.001963  0.245011  0.018319  0.401701  0.009814  0.013739   \n",
       "NOUN  0.176860  0.043796  0.264562  0.004988  0.146898  0.017002  0.029088   \n",
       "PRON  0.020761  0.013072  0.209919  0.007689  0.484045  0.033449  0.094195   \n",
       "VERB  0.091445  0.031672  0.109688  0.035709  0.168530  0.082363  0.217979   \n",
       "ADV   0.116086  0.013599  0.032172  0.015920  0.346269  0.080929  0.023549   \n",
       "X     0.145449  0.184914  0.061744  0.055060  0.205602  0.025939  0.074157   \n",
       "ADJ   0.077315  0.010834  0.699442  0.000657  0.012147  0.004432  0.021175   \n",
       ".     0.092185  0.002069  0.222052  0.065204  0.089217  0.052253  0.027341   \n",
       "NUM   0.035283  0.027443  0.354946  0.001508  0.017189  0.002413  0.210796   \n",
       "CONJ  0.052263  0.004200  0.353243  0.057863  0.154456  0.054130  0.008866   \n",
       "DET   0.009157  0.000241  0.640000  0.003494  0.039036  0.012771  0.044940   \n",
       "\n",
       "           ADJ         .       NUM      CONJ       DET  \n",
       "ADP   0.106217  0.039565  0.061853  0.000853  0.324624  \n",
       "PRT   0.085705  0.042198  0.055937  0.002290  0.102388  \n",
       "NOUN  0.012196  0.239770  0.009101  0.042413  0.013325  \n",
       "PRON  0.074971  0.039985  0.006920  0.005383  0.009612  \n",
       "VERB  0.065285  0.035709  0.021891  0.005356  0.134374  \n",
       "ADV   0.130348  0.134328  0.030514  0.006633  0.069652  \n",
       "X     0.016709  0.163749  0.002864  0.010821  0.052992  \n",
       "ADJ   0.065988  0.065496  0.020683  0.016907  0.004924  \n",
       ".     0.045148  0.093893  0.079863  0.057199  0.173487  \n",
       "NUM   0.032871  0.113088  0.187274  0.014174  0.003016  \n",
       "CONJ  0.118059  0.032664  0.041531  0.000467  0.122259  \n",
       "DET   0.204699  0.017711  0.021807  0.000482  0.005663  "
      ]
     },
     "execution_count": 15,
     "metadata": {},
     "output_type": "execute_result"
    }
   ],
   "source": [
    "# convert the matrix to a data frame for better readability\n",
    "tags_df = pd.DataFrame(tags_matrix, columns = list(training_pos_tag_set), index=list(training_pos_tag_set))\n",
    "\n",
    "# dataset glimpse\n",
    "tags_df"
   ]
  },
  {
   "cell_type": "markdown",
   "metadata": {},
   "source": [
    "### Exploratory Data Analysis"
   ]
  },
  {
   "cell_type": "code",
   "execution_count": 16,
   "metadata": {},
   "outputs": [
    {
     "data": {
      "image/png": "[encoded data removed]",
      "text/plain": [
       "<Figure size 1008x576 with 2 Axes>"
      ]
     },
     "metadata": {
      "needs_background": "light"
     },
     "output_type": "display_data"
    }
   ],
   "source": [
    "# heatmap of tags matrix\n",
    "# T(i, j) means P(tag j given tag i)\n",
    "plt.figure(figsize=(14, 8))\n",
    "sns.heatmap(tags_df, annot = True)\n",
    "plt.show()"
   ]
  },
  {
   "cell_type": "code",
   "execution_count": 17,
   "metadata": {},
   "outputs": [
    {
     "data": {
      "image/png": "[encoded data removed]",
      "text/plain": [
       "<Figure size 1008x576 with 2 Axes>"
      ]
     },
     "metadata": {
      "needs_background": "light"
     },
     "output_type": "display_data"
    }
   ],
   "source": [
    "# frequent tags\n",
    "# filter the df to get P(t2, t1) > 0.5\n",
    "\n",
    "tags_frequent = tags_df[tags_df>0.5]\n",
    "plt.figure(figsize=(14, 8))\n",
    "sns.heatmap(tags_frequent, annot = True)\n",
    "plt.show()"
   ]
  },
  {
   "cell_type": "markdown",
   "metadata": {},
   "source": [
    "### Build the Vanilla Viterbi based POS tagger"
   ]
  },
  {
   "cell_type": "code",
   "execution_count": 18,
   "metadata": {},
   "outputs": [],
   "source": [
    "# Viterbi Heuristic\n",
    "def Vanilla_Viterbi(words, train_bag = train_tagged_words):\n",
    "    state = []\n",
    "    T = list(set([pair[1] for pair in train_bag]))\n",
    "    \n",
    "    for key, word in enumerate(words):\n",
    "        #initialise list of probability column for a given observation\n",
    "        p = [] \n",
    "        for tag in T:\n",
    "            if key == 0:\n",
    "                transition_p = tags_df.loc['.', tag]\n",
    "            else:\n",
    "                transition_p = tags_df.loc[state[-1], tag]\n",
    "                \n",
    "            # compute emission and state probabilities\n",
    "            emission_p = word_given_tag(words[key], tag)[0]/word_given_tag(words[key], tag)[1]\n",
    "            state_probability = emission_p * transition_p    \n",
    "            p.append(state_probability)\n",
    "            \n",
    "        pmax = max(p)\n",
    "        # getting state for which probability is maximum\n",
    "        state_max = T[p.index(pmax)] \n",
    "        state.append(state_max)\n",
    "    return list(zip(words, state))"
   ]
  },
  {
   "cell_type": "code",
   "execution_count": 19,
   "metadata": {},
   "outputs": [],
   "source": [
    "random.seed(1234)\n",
    "\n",
    "# list of tagged words\n",
    "test_run_base = [tup for sent in test_set for tup in sent]\n",
    "\n",
    "# list of untagged words\n",
    "test_tagged_words = [tup[0] for sent in test_set for tup in sent]\n"
   ]
  },
  {
   "cell_type": "code",
   "execution_count": null,
   "metadata": {},
   "outputs": [],
   "source": [
    "# tagging the test sentences\n",
    "\n",
    "tagged_seq = Vanilla_Viterbi(test_tagged_words)"
   ]
  },
  {
   "cell_type": "code",
   "execution_count": null,
   "metadata": {},
   "outputs": [],
   "source": [
    "# Let's check the accuracy of the vanilla viterbi algorithm\n",
    "\n",
    "check = [i for i, j in zip(tagged_seq, test_run_base) if i == j]\n",
    "\n",
    "vanilla_viterbi_accuracy = len(check)/len(tagged_seq)\n",
    "\n",
    "print(\"The accuracy of the Vanilla Viterbi Algorithm is -\", vanilla_viterbi_accuracy)"
   ]
  },
  {
   "cell_type": "code",
   "execution_count": null,
   "metadata": {
    "scrolled": true
   },
   "outputs": [],
   "source": [
    "# Let's have a look at the incorrect tagged cases\n",
    "\n",
    "incorrect_tagged_cases = [[test_run_base[i-1],j] for i, j in enumerate(zip(tagged_seq, test_run_base)) if j[0]!=j[1]]\n",
    "print(len(incorrect_tagged_cases))\n",
    "incorrect_tagged_cases"
   ]
  },
  {
   "cell_type": "markdown",
   "metadata": {},
   "source": [
    "#### Before proceeding for dealing with unknown words, lets first see how many unknown words we have. Unknows words would be\n",
    "#### those words that are present in the test set but not in the train set. That is the words the algorithm has not seen before."
   ]
  },
  {
   "cell_type": "code",
   "execution_count": null,
   "metadata": {},
   "outputs": [],
   "source": [
    "# Unknown words \n",
    "\n",
    "test_vocabulary_set = set([t for t in test_tagged_words])\n",
    "\n",
    "unknown_words = list(test_vocabulary_set - training_vocabulary_set)\n",
    "print(\"Total Unknown words :\", len(unknown_words))\n",
    "print(\"\\n\")\n",
    "print(\"Unknown Words :\", unknown_words)"
   ]
  },
  {
   "cell_type": "markdown",
   "metadata": {},
   "source": [
    "# Solve the problem of unknown words\n",
    "\n",
    "# Method 1\n",
    "\n",
    "The default Vanilla viterbi algorithm achieved an accuracy of about 90.7%. This approx. 9% loss of accuracy was majorly due to the fact that when the algorithm encountered an unknown word (i.e. not present in the training set, such as 'Twitter'), it assigned an incorrect tag arbitrarily. This is because, for unknown words, the emission probabilities for all candidate tags are 0, so the algorithm arbitrarily chooses (the first) tag.\n",
    "\n",
    "Now lets see how we can minimize this loss by modifying the vanilla viterbi.\n",
    "\n",
    "If a word is not present in the training vocabulary (unknown word), its emission probability will be **ZERO**. In that case the state probability will inturn be zero. Thus in cases where the algorithm encounters a word which it has not see previously, we can omit the emission probability and only consider the transition probability.\n",
    "\n",
    "The algorithm can be modified to deal the case as below - \n",
    "\n",
    "\n",
    "**If word in unknown then <br></br><br></br>\n",
    "consider only the transition_p (emission probability being 0)<br></br><br></br>\n",
    "else<br></br><br></br>\n",
    "   consider both the emission and transition probability.**"
   ]
  },
  {
   "cell_type": "code",
   "execution_count": null,
   "metadata": {},
   "outputs": [],
   "source": [
    "# Modified Viterbi Heuristic\n",
    "def Vanilla_Viterbi_for_Unknown_Words(words, train_bag = train_tagged_words):\n",
    "    state = []\n",
    "    T = list(set([pair[1] for pair in train_bag]))\n",
    "    \n",
    "    for key, word in enumerate(words):\n",
    "        #initialise list of probability column for a given observation\n",
    "        p = [] \n",
    "        for tag in T:\n",
    "            if key == 0:\n",
    "                transition_p = tags_df.loc['.', tag]\n",
    "            else:\n",
    "                transition_p = tags_df.loc[state[-1], tag]\n",
    "                \n",
    "            # compute emission and state probabilities\n",
    "            emission_p = word_given_tag(words[key], tag)[0]/word_given_tag(words[key], tag)[1]\n",
    "            \n",
    "            # modification to the original vanilla viterbi algorithm \n",
    "            # to consider unknown words\n",
    "            if word not in training_vocabulary_set:\n",
    "                state_probability = transition_p\n",
    "            else:\n",
    "                state_probability = emission_p * transition_p\n",
    "                \n",
    "            p.append(state_probability)\n",
    "            \n",
    "        pmax = max(p)\n",
    "        # getting state for which probability is maximum\n",
    "        state_max = T[p.index(pmax)] \n",
    "        state.append(state_max)\n",
    "    return list(zip(words, state))"
   ]
  },
  {
   "cell_type": "code",
   "execution_count": null,
   "metadata": {},
   "outputs": [],
   "source": [
    "# tagging the test sentences\n",
    "unknown_word_tagged_seq = Vanilla_Viterbi_for_Unknown_Words(test_tagged_words)\n",
    "\n",
    "# accuracy\n",
    "unknown_word_check = [i for i, j in zip(unknown_word_tagged_seq, test_run_base) if i == j]\n",
    "\n",
    "optimized_viterbi_accuracy = len(unknown_word_check)/len(unknown_word_tagged_seq)\n",
    "\n",
    "print(\"The accuracy of the Vanilla Viterbi Algorithm after modification to handle unknown words is -\", optimized_viterbi_accuracy)"
   ]
  },
  {
   "cell_type": "markdown",
   "metadata": {},
   "source": [
    "We see the modified viterbi algorithm **performs better** than the original vanilla viterbi algorithm. The modified viterbi achieves an accuracy of (approx.) **94.44%** comapred to **90.5%** of the vanilla viterbi.\n",
    "\n",
    "Still there is a loss of approx. 6%. \n",
    "\n",
    "Now lets see if we can in reduce this loss further.\n",
    "\n",
    "### Let's try with some Lexicon and Rule-Based Models for POS Tagging.\n",
    "\n",
    "#### Unigram Tagger"
   ]
  },
  {
   "cell_type": "code",
   "execution_count": null,
   "metadata": {},
   "outputs": [],
   "source": [
    "# Unigram Tagger\n",
    "\n",
    "unigram_tagger = nltk.UnigramTagger(train_set)\n",
    "unigram_tagger_accuracy = unigram_tagger.evaluate(test_set)\n",
    "print(\"The accuracy of the Unigram Tagger is -\", unigram_tagger_accuracy)"
   ]
  },
  {
   "cell_type": "markdown",
   "metadata": {},
   "source": [
    "Let's now try combining the unigram tagger with a rule based regex tagger."
   ]
  },
  {
   "cell_type": "code",
   "execution_count": null,
   "metadata": {},
   "outputs": [],
   "source": [
    "# patterns for tagging using a rule based regex tagger -\n",
    "\n",
    "patterns = [\n",
    "    (r'^[aA-zZ].*[0-9]+','NOUN'),  # Alpha Numeric\n",
    "    (r'.*ness$', 'NOUN'),\n",
    "    (r'.*\\'s$', 'NOUN'),              # possessive nouns\n",
    "    (r'.*s$', 'NOUN'),                # plural nouns\n",
    "    (r'.*', 'NOUN'),    \n",
    "    (r'.*ly$', 'ADV'),\n",
    "    (r'^(0|([*|-|$].*))','X'), # Any special character combination\n",
    "    (r'.*ould$', 'X'), # modals\n",
    "    (r'(The|the|A|a|An|an)$', 'DET'),\n",
    "    (r'^([0-9]|[aA-zZ])+\\-[aA-zZ]*$','ADJ'),\n",
    "    (r'.*able$', 'ADJ'), # adjective like 100-megabytes 237-Seats\n",
    "    (r'[aA-zZ]+(ed|ing|es)$', 'VERB'), # Any word ending with 'ing' or 'ed' is a verb\n",
    "    (r'[0-9].?[,\\/]?[0-9]*','NUM')# Numbers \n",
    "    ]"
   ]
  },
  {
   "cell_type": "code",
   "execution_count": null,
   "metadata": {},
   "outputs": [],
   "source": [
    "# rule based RegexpTagger\n",
    "\n",
    "rule_based_tagger = nltk.RegexpTagger(patterns)\n",
    "\n",
    "# unigram tagger backed up by the rule-based tagger\n",
    "rule_based_unigram_tagger = nltk.UnigramTagger(train_set, backoff = rule_based_tagger)\n",
    "\n",
    "accuracy_rule_based_unigram_tagger = rule_based_unigram_tagger.evaluate(test_set)\n",
    "\n",
    "print(\"The accuracy of the Unigram Tagger backed up by the RegexpTagger is -\", accuracy_rule_based_unigram_tagger)"
   ]
  },
  {
   "cell_type": "code",
   "execution_count": null,
   "metadata": {},
   "outputs": [],
   "source": [
    "# Bigram tagger\n",
    "\n",
    "bigram_tagger = nltk.BigramTagger(train_set, backoff = rule_based_unigram_tagger)\n",
    "bigram_tagger.evaluate(test_set)\n",
    "accuracy_bigram_tagger = bigram_tagger.evaluate(test_set)\n",
    "print(\"The accuracy of the Bigram Tagger backed up by the rule_based_unigram_tagger is -\", accuracy_bigram_tagger)"
   ]
  },
  {
   "cell_type": "code",
   "execution_count": null,
   "metadata": {},
   "outputs": [],
   "source": [
    "# trigram tagger\n",
    "\n",
    "trigram_tagger = nltk.TrigramTagger(train_set, backoff = bigram_tagger)\n",
    "trigram_tagger.evaluate(test_set)\n",
    "accuracy_trigram_tagger = trigram_tagger.evaluate(test_set)\n",
    "print(\"The accuracy of the Trigram Tagger backed up by the bigram_tagger is -\", accuracy_trigram_tagger)"
   ]
  },
  {
   "cell_type": "markdown",
   "metadata": {},
   "source": [
    "# Method 2\n",
    "\n",
    "We see that the Trigram Tagger backed up by the bigram tagger gives an accuracy of about 94.6%. Let's now try to modify the viterbi algorithm to use this trigram tagger as a back-off. \n",
    "\n",
    "When the viterbi algorithm is not able to tag an unknown word, it uses the rule-based tagger."
   ]
  },
  {
   "cell_type": "code",
   "execution_count": null,
   "metadata": {},
   "outputs": [],
   "source": [
    "# A trigram tagger backed off by a rule based tagger.\n",
    "\n",
    "def trigram_tagger(word, train_set = train_set):\n",
    "    \n",
    "    patterns = [\n",
    "    (r'[aA-zZ]+(ed|ing|es)$', 'VERB'), # Any word ending with 'ing' or 'ed' is a verb\n",
    "\n",
    "    (r'.*ly$', 'ADV'),\n",
    "        \n",
    "    (r'^([0-9]|[aA-zZ])+\\-[aA-zZ]*$','ADJ'),\n",
    "    (r'.*able$', 'ADJ'), \n",
    "    (r'.*ful$', 'ADJ'),\n",
    "    (r'.*ous$', 'ADJ'),\n",
    "        \n",
    "    (r'^[aA-zZ].*[0-9]+','NOUN'),     # Alpha Numeric\n",
    "    (r'.*ness$', 'NOUN'),\n",
    "    (r'.*\\'s$', 'NOUN'),              # possessive nouns - words ending with 's\n",
    "    (r'.*s$', 'NOUN'),                # plural nouns\n",
    "    (r'.*ers$', 'NOUN'),              # eg.- kinderganteners, autobioghapgers\n",
    "    (r'.*ment$', 'NOUN'),\n",
    "    (r'.*town$', 'NOUN'),\n",
    "        \n",
    "    (r'^(0|([*|-|$].*))','X'), # Any special character combination\n",
    "    (r'.*ould$', 'X'),\n",
    "        \n",
    "    (r'(The|the|A|a|An|an|That|that|This|this|Those|those|These|these)$', 'DET'), # That/this/these/those belong to the category of Demonstrative determiners\n",
    "    (r'[0-9].?[,\\/]?[0-9]*','NUM'), # Numbers \n",
    "        \n",
    "    (r'.*', 'NOUN')\n",
    "    ]\n",
    "\n",
    "    regex_based_tagger = nltk.RegexpTagger(patterns)\n",
    "\n",
    "    # trigram backed up by the regex tagger\n",
    "    trigram_regex_tagger = nltk.TrigramTagger(train_set, backoff = regex_based_tagger)\n",
    "    return trigram_regex_tagger.tag_sents([[(word)]])"
   ]
  },
  {
   "cell_type": "code",
   "execution_count": null,
   "metadata": {},
   "outputs": [],
   "source": [
    "def viterbi_backedup_by_trigram_tagger(words, train_bag = train_tagged_words):\n",
    "    state = []\n",
    "    tag_set = list(set([pair[1] for pair in train_bag]))\n",
    "    \n",
    "    # use the trigram tagger backed up by the rule based tagger\n",
    "    # for unknown words.\n",
    "    for key, word in enumerate(words):\n",
    "        if word not in training_vocabulary_set:\n",
    "            unknown_word_tag = trigram_tagger(word)\n",
    "            for sent in unknown_word_tag:\n",
    "                for tup in sent:\n",
    "                    state.append(tup[1])\n",
    "        else:            \n",
    "            p = [] \n",
    "            for tag in tag_set:\n",
    "                if key == 0:\n",
    "                    transition_p = tags_df.loc['.', tag]\n",
    "                else:\n",
    "                    transition_p = tags_df.loc[state[-1], tag]\n",
    "                \n",
    "            # compute emission and state probabilities\n",
    "                emission_p = word_given_tag(words[key], tag)[0]/word_given_tag(words[key], tag)[1]\n",
    "                state_probability = emission_p * transition_p    \n",
    "                p.append(state_probability)\n",
    "            \n",
    "            pmax = max(p)\n",
    "            # getting state for which probability is maximum\n",
    "            state_max = tag_set[p.index(pmax)] \n",
    "            state.append(state_max)\n",
    "    return list(zip(words, state))"
   ]
  },
  {
   "cell_type": "markdown",
   "metadata": {},
   "source": [
    "# Evaluating tagging accuracy"
   ]
  },
  {
   "cell_type": "code",
   "execution_count": null,
   "metadata": {},
   "outputs": [],
   "source": [
    "# tagging the test sentences\n",
    "viterbi_trigram_tagged_seq = viterbi_backedup_by_trigram_tagger(test_tagged_words)\n",
    "\n",
    "# accuracy\n",
    "viterbi_trigram_word_check = [i for i, j in zip(viterbi_trigram_tagged_seq, test_run_base) if i == j]\n",
    "\n",
    "viterbi_trigram_accuracy = len(viterbi_trigram_word_check)/len(viterbi_trigram_tagged_seq)\n",
    "\n",
    "print(\"The accuracy of the viterbi_backedup_by_trigram_tagger is -\", viterbi_trigram_accuracy)"
   ]
  },
  {
   "cell_type": "markdown",
   "metadata": {},
   "source": [
    "### Compare the tagging accuracies of the modifications with the vanilla Viterbi algorithm\n",
    "\n",
    "### 1. First lets check the tagging accuracy on the test_set data generated using the test_train_split"
   ]
  },
  {
   "cell_type": "code",
   "execution_count": null,
   "metadata": {},
   "outputs": [],
   "source": [
    "acccuracy_data = [['Vanilla Viterbi', vanilla_viterbi_accuracy*100], \n",
    "                  ['Optimized Vanilla Viterbi', optimized_viterbi_accuracy*100], \n",
    "                  ['Unigram Tagger', unigram_tagger_accuracy*100],\n",
    "                  ['Unigram + RegexpTagger', accuracy_rule_based_unigram_tagger*100],\n",
    "                  ['Bigram Tagger + Unigram_tagger', accuracy_bigram_tagger*100],\n",
    "                  ['Trigram Tagger + Bigram_tagger', accuracy_trigram_tagger*100],\n",
    "                  ['Viterbi + Trigram_tagger', viterbi_trigram_accuracy*100]]\n",
    "\n",
    "acccuracy_data_df = pd.DataFrame(acccuracy_data, columns = ['Tagging_Algorithm', 'Tagging_Accuracy'])\n",
    "\n",
    "acccuracy_data_df.set_index('Tagging_Algorithm', drop = True, inplace = True)\n",
    "\n",
    "acccuracy_data_df"
   ]
  },
  {
   "cell_type": "code",
   "execution_count": null,
   "metadata": {},
   "outputs": [],
   "source": [
    "acccuracy_data_df.plot.line(rot = 90, legend = False)"
   ]
  },
  {
   "cell_type": "markdown",
   "metadata": {},
   "source": [
    "### 2.  Next, lets check the tagging accuracies for the algorithm on the sample test sentences provided -"
   ]
  },
  {
   "cell_type": "code",
   "execution_count": null,
   "metadata": {},
   "outputs": [],
   "source": [
    "sample_test_sentences = ['Android is a mobile operating system developed by Google.',\n",
    "\"Android has been the best-selling OS worldwide on smartphones since 2011 and on tablets since 2013.\",\n",
    "\"Google and Twitter made a deal in 2015 that gave Google access to Twitter's firehose.\",\n",
    "\"Twitter is an online news and social networking service on which users post and interact with messages known as tweets.\",\n",
    "\"Before entering politics, Donald Trump was a domineering businessman and a television personality.\",\n",
    "\"The 2018 FIFA World Cup is the 21st FIFA World Cup, an international football tournament contested once every four years.\",\n",
    "\"This is the first World Cup to be held in Eastern Europe and the 11th time that it has been held in Europe.\",\n",
    "\"Show me the cheapest round trips from Dallas to Atlanta\",\n",
    "\"I would like to see flights from Denver to Philadelphia.\",\n",
    "\"Show me the price of the flights leaving Atlanta at about 3 in the afternoon and arriving in San Francisco.\",\n",
    "\"NASA invited social media users to experience the launch of ICESAT-2 Satellite.\"]"
   ]
  },
  {
   "cell_type": "code",
   "execution_count": null,
   "metadata": {},
   "outputs": [],
   "source": [
    "sample_test_tokenized_sents = [word_tokenize(sent) for sent in sample_test_sentences]\n",
    "sample_test_corpus_pos_tags = nltk.pos_tag_sents(sample_test_tokenized_sents, tagset = 'universal')\n",
    "sample_test_corpus_pos_tags"
   ]
  },
  {
   "cell_type": "code",
   "execution_count": null,
   "metadata": {},
   "outputs": [],
   "source": [
    "# list of untagged words from the sample test data provided\n",
    "sample_test_tagged_words = [tup[0] for sent in sample_test_corpus_pos_tags for tup in sent]\n",
    "\n",
    "\n",
    "# list of tagged words\n",
    "sample_test_test_run_base = [tup for sent in sample_test_corpus_pos_tags for tup in sent]"
   ]
  },
  {
   "cell_type": "code",
   "execution_count": null,
   "metadata": {
    "scrolled": true
   },
   "outputs": [],
   "source": [
    "sample_test_tagged_words"
   ]
  },
  {
   "cell_type": "markdown",
   "metadata": {},
   "source": [
    "### 1. Testing the accuracy of Vanilla Viterbi on sample test data - "
   ]
  },
  {
   "cell_type": "code",
   "execution_count": null,
   "metadata": {},
   "outputs": [],
   "source": [
    "# tagging the test sentences\n",
    "sample_test_tagged_seq = Vanilla_Viterbi(sample_test_tagged_words)\n",
    "\n",
    "# Let's check the accuracy of the vanilla viterbi algorithm\n",
    "sample_test_check = [i for i, j in zip(sample_test_tagged_seq, sample_test_test_run_base) if i == j]\n",
    "\n",
    "vanilla_viterbi_accuracy_on_sample_test_data = len(sample_test_check)/len(sample_test_tagged_seq)\n",
    "\n",
    "print(\"The accuracy of the Vanilla Viterbi Algorithm on the sample test data is -\", vanilla_viterbi_accuracy_on_sample_test_data)"
   ]
  },
  {
   "cell_type": "markdown",
   "metadata": {},
   "source": [
    "### 2. Testing the accuracy of Vanilla_Viterbi_for_Unknown_Words on sample test data - "
   ]
  },
  {
   "cell_type": "code",
   "execution_count": null,
   "metadata": {},
   "outputs": [],
   "source": [
    "# tagging the test sentences\n",
    "sample_test_unknown_word_tagged_seq = Vanilla_Viterbi_for_Unknown_Words(sample_test_tagged_words)\n",
    "\n",
    "# accuracy\n",
    "sample_test_unknown_word_check = [i for i, j in zip(sample_test_unknown_word_tagged_seq, sample_test_test_run_base) if i == j]\n",
    "\n",
    "sample_test_optimized_viterbi_accuracy = len(sample_test_unknown_word_check)/len(sample_test_unknown_word_tagged_seq)\n",
    "\n",
    "print(\"The accuracy of the Vanilla_Viterbi_for_Unknown_Words on the sample test data is -\", sample_test_optimized_viterbi_accuracy)"
   ]
  },
  {
   "cell_type": "markdown",
   "metadata": {},
   "source": [
    "### 3. Testing the accuracy of viterbi_backedup_by_trigram_tagger on sample test data - "
   ]
  },
  {
   "cell_type": "code",
   "execution_count": null,
   "metadata": {},
   "outputs": [],
   "source": [
    "# tagging the test sentences\n",
    "sample_test_viterbi_trigram_tagged_seq = viterbi_backedup_by_trigram_tagger(sample_test_tagged_words)\n",
    "\n",
    "# accuracy\n",
    "sample_test_viterbi_trigram_check = [i for i, j in zip(sample_test_viterbi_trigram_tagged_seq, sample_test_test_run_base) if i == j]\n",
    "\n",
    "sample_test_viterbi_trigram_accuracy = len(sample_test_viterbi_trigram_check)/len(sample_test_viterbi_trigram_tagged_seq)\n",
    "\n",
    "print(\"The accuracy of the viterbi_backedup_by_trigram_tagger on the sample test data is -\", sample_test_viterbi_trigram_accuracy)"
   ]
  },
  {
   "cell_type": "markdown",
   "metadata": {},
   "source": [
    "### Comparing the accuracies of the 3 algorithm on sample test data -"
   ]
  },
  {
   "cell_type": "code",
   "execution_count": null,
   "metadata": {},
   "outputs": [],
   "source": [
    "acccuracy_on_sample_test_data = [['Vanilla Viterbi', vanilla_viterbi_accuracy_on_sample_test_data*100], \n",
    "                  ['Optimized Vanilla Viterbi', sample_test_optimized_viterbi_accuracy*100], \n",
    "                  ['Viterbi + Trigram_tagger', sample_test_viterbi_trigram_accuracy*100]]\n",
    "\n",
    "sample_test_data_acccuracy_df = pd.DataFrame(acccuracy_on_sample_test_data, columns = ['Tagging_Algorithm', 'Tagging_Accuracy'])\n",
    "\n",
    "sample_test_data_acccuracy_df.set_index('Tagging_Algorithm', drop = True, inplace = True)\n",
    "\n",
    "sample_test_data_acccuracy_df"
   ]
  },
  {
   "cell_type": "code",
   "execution_count": null,
   "metadata": {},
   "outputs": [],
   "source": [
    "sample_test_data_acccuracy_df.plot.line(rot = 90, legend = False)"
   ]
  },
  {
   "cell_type": "markdown",
   "metadata": {},
   "source": [
    "## List down cases which were incorrectly tagged by original POS tagger & got corrected by your modifications -"
   ]
  },
  {
   "cell_type": "code",
   "execution_count": null,
   "metadata": {},
   "outputs": [],
   "source": [
    "# test sentences\n",
    "\n",
    "test_sentence_1 = 'Android is a mobile operating system developed by Google.'\n",
    "test_sentence_2 = 'Android has been the best-selling OS worldwide on smartphones since 2011 and on tablets since 2013.'\n",
    "test_sentence_3 = \"Google and Twitter made a deal in 2015 that gave Google access to Twitter's firehose.\"\n",
    "test_sentence_4 = 'Twitter is an online news and social networking service on which users post and interact with messages known as tweets.'\n",
    "test_sentence_5 = 'Before entering politics, Donald Trump was a domineering businessman and a television personality.'\n",
    "test_sentence_6 = 'The 2018 FIFA World Cup is the 21st FIFA World Cup, an international football tournament contested once every four years.'\n",
    "test_sentence_7 = 'This is the first World Cup to be held in Eastern Europe and the 11th time that it has been held in Europe.'\n",
    "test_sentence_8 = 'Show me the cheapest round trips from Dallas to Atlanta'\n",
    "test_sentence_9 = 'I would like to see flights from Denver to Philadelphia.'\n",
    "test_sentence_10 = 'Show me the price of the flights leaving Atlanta at about 3 in the afternoon and arriving in San Francisco.'\n",
    "test_sentence_11 = 'NASA invited social media users to experience the launch of ICESAT-2 Satellite.'"
   ]
  },
  {
   "cell_type": "markdown",
   "metadata": {},
   "source": [
    "# Case - 1"
   ]
  },
  {
   "cell_type": "code",
   "execution_count": null,
   "metadata": {},
   "outputs": [],
   "source": [
    "# test_sentence_1 = 'Android is a mobile operating system developed by Google.'\n",
    "\n",
    "words_test_sentence_1 = nltk.word_tokenize(test_sentence_1)\n",
    "\n",
    "# pos tags with Vanilla_Viterbi\n",
    "pos_tagged_sequence_with_vanilla_viterbi = Vanilla_Viterbi(words_test_sentence_1)\n",
    "print(\"Tagging sequence with Vanilla_Viterbi -\\n\\n\", pos_tagged_sequence_with_vanilla_viterbi)\n",
    "\n",
    "print('\\n')\n",
    "print('-'*120)\n",
    "\n",
    "# pos tags with viterbi_backedup_by_trigram_tagger\n",
    "pos_tagged_sequence_with_viterbi_trigram = viterbi_backedup_by_trigram_tagger(words_test_sentence_1)\n",
    "print(\"Tagging sequence with viterbi_backedup_by_trigram_tagger -\\n\\n\", pos_tagged_sequence_with_viterbi_trigram)"
   ]
  },
  {
   "cell_type": "code",
   "execution_count": null,
   "metadata": {},
   "outputs": [],
   "source": [
    "cols = ['vanilla_viterbi_tags', 'viterbi_trigram_tags_with_corrections']\n",
    "tags_correction_df_1 = pd.DataFrame(columns = cols)\n",
    "tags_correction_df_1 = tags_correction_df_1.fillna(0)\n",
    "\n",
    "tags_correction_df_1.vanilla_viterbi_tags = [tup for tup in pos_tagged_sequence_with_vanilla_viterbi]\n",
    "tags_correction_df_1.viterbi_trigram_tags_with_corrections = [tup for tup in pos_tagged_sequence_with_viterbi_trigram]\n",
    "\n",
    "tags_correction_df_1"
   ]
  },
  {
   "cell_type": "markdown",
   "metadata": {},
   "source": [
    "#### As we see above in the sample test sentence 1 the word 'Android' was tagged as PRT by vanilla viterbi. The modified algorithm of viterbi backed up by trigram tagger corrected this and tagged 'Android' as NOUN."
   ]
  },
  {
   "cell_type": "markdown",
   "metadata": {},
   "source": [
    "# Case - 2"
   ]
  },
  {
   "cell_type": "code",
   "execution_count": null,
   "metadata": {},
   "outputs": [],
   "source": [
    "# test_sentence_6 = 'The 2018 FIFA World Cup is the 21st FIFA World Cup, \n",
    "#                   an international football tournament contested once every four years.'\n",
    "\n",
    "words_test_sentence_6 = nltk.word_tokenize(test_sentence_6)\n",
    "\n",
    "# pos tags with Vanilla_Viterbi\n",
    "pos_tagged_sequence_with_vanilla_viterbi_6 = Vanilla_Viterbi(words_test_sentence_6)\n",
    "print(\"Tagging sequence with Vanilla_Viterbi -\\n\\n\", pos_tagged_sequence_with_vanilla_viterbi_6)\n",
    "\n",
    "print('\\n')\n",
    "print('-'*120)\n",
    "\n",
    "# pos tags with viterbi_backedup_by_trigram_tagger\n",
    "pos_tagged_sequence_with_viterbi_trigram_6 = viterbi_backedup_by_trigram_tagger(words_test_sentence_6)\n",
    "print(\"Tagging sequence with viterbi_backedup_by_trigram_tagger -\\n\\n\", pos_tagged_sequence_with_viterbi_trigram_6)"
   ]
  },
  {
   "cell_type": "code",
   "execution_count": null,
   "metadata": {},
   "outputs": [],
   "source": [
    "tags_correction_df_6 = pd.DataFrame(columns = cols)\n",
    "tags_correction_df_6 = tags_correction_df_6.fillna(0)\n",
    "\n",
    "tags_correction_df_6.vanilla_viterbi_tags = [tup for tup in pos_tagged_sequence_with_vanilla_viterbi_6]\n",
    "tags_correction_df_6.viterbi_trigram_tags_with_corrections = [tup for tup in pos_tagged_sequence_with_viterbi_trigram_6]\n",
    "\n",
    "tags_correction_df_6"
   ]
  },
  {
   "cell_type": "markdown",
   "metadata": {},
   "source": [
    "#### As we see above in the sample test sentence 6 the following words were incorrectly tagged by the vanilla viterbi algorithm -  '2018' - PRT, 'FIFA' - PRT, 'Cup' - PRT, '21st' - PRT, 'tournament' - PRT, 'contested' - PRT.\n",
    "\n",
    "#### The above words were corrected by viterbi backed up by the trigram tagger. The corrections were made as - '2018' - NUM, 'FIFA' - NOUN, 'Cup' - NOUN, '21st' - NUM, 'tournament' - NOUN, 'contested' - VERB.\n"
   ]
  },
  {
   "cell_type": "markdown",
   "metadata": {},
   "source": [
    "# Case - 3"
   ]
  },
  {
   "cell_type": "code",
   "execution_count": null,
   "metadata": {
    "scrolled": true
   },
   "outputs": [],
   "source": [
    "# test_sentence_8 = 'Show me the cheapest round trips from Dallas to Atlanta'\n",
    "\n",
    "words_test_sentence_8 = nltk.word_tokenize(test_sentence_8)\n",
    "\n",
    "# pos tags with Vanilla_Viterbi\n",
    "pos_tagged_sequence_with_vanilla_viterbi_8 = Vanilla_Viterbi(words_test_sentence_8)\n",
    "print(\"Tagging sequence with Vanilla_Viterbi -\\n\\n\", pos_tagged_sequence_with_vanilla_viterbi_8)\n",
    "\n",
    "print('\\n')\n",
    "print('-'*120)\n",
    "\n",
    "# pos tags with viterbi_backedup_by_trigram_tagger\n",
    "pos_tagged_sequence_with_viterbi_trigram_8 = viterbi_backedup_by_trigram_tagger(words_test_sentence_8)\n",
    "print(\"Tagging sequence with viterbi_backedup_by_trigram_tagger -\\n\\n\", pos_tagged_sequence_with_viterbi_trigram_8)"
   ]
  },
  {
   "cell_type": "code",
   "execution_count": null,
   "metadata": {},
   "outputs": [],
   "source": [
    "tags_correction_df_8 = pd.DataFrame(columns = cols)\n",
    "tags_correction_df_8 = tags_correction_df_8.fillna(0)\n",
    "\n",
    "tags_correction_df_8.vanilla_viterbi_tags = [tup for tup in pos_tagged_sequence_with_vanilla_viterbi_8]\n",
    "tags_correction_df_8.viterbi_trigram_tags_with_corrections = [tup for tup in pos_tagged_sequence_with_viterbi_trigram_8]\n",
    "\n",
    "tags_correction_df_8"
   ]
  },
  {
   "cell_type": "markdown",
   "metadata": {},
   "source": [
    "#### As we see in the sample test sentence 8, the vanilla viterbi tagged 'trips' as PRT. This was corrected by the modified viterbi algorithm (backed up by the trigram tagger) and tagged as NOUN."
   ]
  },
  {
   "cell_type": "markdown",
   "metadata": {},
   "source": [
    "#### Now lets see the tags and corrections for all the sample test sentences with both the methods.\n",
    "\n",
    "#### Method 1 - We used only the transition probability for unknown words.\n",
    "#### Method 2 - We used the viterbi algorithm and backed it up with the trigram tagger which was inturn backed up by the rule based regex tagger."
   ]
  },
  {
   "cell_type": "code",
   "execution_count": null,
   "metadata": {},
   "outputs": [],
   "source": [
    "# Default Vanilla Viterbi\n",
    "# pos tags with Vanilla_Viterbi\n",
    "sample_test_tagged_sequence_with_vanilla_viterbi = Vanilla_Viterbi(sample_test_tagged_words)\n",
    "print(\"Tagging sequence with Vanilla_Viterbi -\\n\\n\", sample_test_tagged_sequence_with_vanilla_viterbi)\n",
    "\n",
    "print('\\n')\n",
    "print('-'*120)\n",
    "\n",
    "# Method 1 - pos tags with Vanilla_Viterbi_for_Unknown_Words\n",
    "sample_test_tagged_sequence_unknown_words = Vanilla_Viterbi_for_Unknown_Words(sample_test_tagged_words)\n",
    "print(\"Tagging sequence with viterbi using only transition probability for unknown words -\\n\\n\", \n",
    "      sample_test_tagged_sequence_unknown_words)\n",
    "\n",
    "print('\\n')\n",
    "print('-'*120)\n",
    "\n",
    "# Method 2 - pos tags with viterbi_backedup_by_trigram_tagger\n",
    "sample_test_tagged_sequence_with_viterbi_trigram = viterbi_backedup_by_trigram_tagger(sample_test_tagged_words)\n",
    "print(\"Tagging sequence with viterbi_backedup_by_trigram_tagger -\\n\\n\", sample_test_tagged_sequence_with_viterbi_trigram)"
   ]
  },
  {
   "cell_type": "code",
   "execution_count": null,
   "metadata": {},
   "outputs": [],
   "source": [
    "# A dataframe showing - \n",
    "# 1. the actual tags using nltk.pos_tag_sent\n",
    "# 2. words as tagged by vanilla viterbi\n",
    "# 3. words as tagged by Vanilla_Viterbi_for_Unknown_Words - METHOD - 1\n",
    "# 4. words as tagged by viterbi_backedup_by_trigram_tagger - METHOD - 2\n",
    "\n",
    "cols1 = ['actual_tags', 'as_tagged_by_vanilla_viterbi', 'as_tagged_by_Vanilla_Viterbi_for_Unknown_Words',\n",
    "            'as_tagged_by_Vanilla_Viterbi_backed_by_trigram_tagger']\n",
    "\n",
    "tags_comparison_df = pd.DataFrame(columns = cols1)\n",
    "tags_comparison_df = tags_comparison_df.fillna(0)\n",
    "\n",
    "# Actual tags\n",
    "tags_comparison_df.actual_tags = [tup for tup in sample_test_test_run_base]\n",
    "\n",
    "# tags by vanilla viterbi\n",
    "tags_comparison_df.as_tagged_by_vanilla_viterbi = [tup for tup in sample_test_tagged_sequence_with_vanilla_viterbi]\n",
    "\n",
    "# tags by Vanilla_Viterbi_for_Unknown_Words - METHOD - 1\n",
    "tags_comparison_df.as_tagged_by_Vanilla_Viterbi_for_Unknown_Words = [tup for tup in sample_test_tagged_sequence_unknown_words]\n",
    "\n",
    "# tags by viterbi_backedup_by_trigram_tagger - METHOD - 2\n",
    "tags_comparison_df.as_tagged_by_Vanilla_Viterbi_backed_by_trigram_tagger = [tup for tup in \n",
    "                                                                            sample_test_tagged_sequence_with_viterbi_trigram]\n",
    "\n",
    "tags_comparison_df[tags_comparison_df.as_tagged_by_vanilla_viterbi != \n",
    "                   tags_comparison_df.as_tagged_by_Vanilla_Viterbi_backed_by_trigram_tagger]"
   ]
  },
  {
   "cell_type": "markdown",
   "metadata": {},
   "source": [
    "# Conclusion - \n",
    "\n",
    "#### Thus we see that most of the words that were incorrectly tagged by the vanilla viterbi algorithm were corrected by the viterbi algorithm backed up by the trigram tagger. \n",
    "\n",
    "**In this analysis we used 2 modification techniques for the original vanilla viterbi -**\n",
    "\n",
    "#### Method 1 - \n",
    "    - We used only the transition probability for unknown words.\n",
    "    - This method showed an increase in the accuracy (94.4%) but still had some incorrect classification.\n",
    "    \n",
    "    - The accuracy could be increased further and we turned two a second modification in method-2 below.\n",
    "    \n",
    "#### Method 2 - \n",
    "    - We used the viterbi algorithm and backed it up with the trigram tagger which was inturn backed up by the rule based \n",
    "    regex tagger.\n",
    "    - This gave us an accuracy of 95.82% on the test data.\n",
    "    - Also on testing this model on the provided sample test data, it achieved an accuracy of 92.81% and comes out to be \n",
    "    the winner."
   ]
  }
 ],
 "metadata": {
  "kernelspec": {
   "display_name": "Python 3",
   "language": "python",
   "name": "python3"
  },
  "language_info": {
   "codemirror_mode": {
    "name": "ipython",
    "version": 3
   },
   "file_extension": ".py",
   "mimetype": "text/x-python",
   "name": "python",
   "nbconvert_exporter": "python",
   "pygments_lexer": "ipython3",
   "version": "3.8.3"
  }
 },
 "nbformat": 4,
 "nbformat_minor": 2
}
